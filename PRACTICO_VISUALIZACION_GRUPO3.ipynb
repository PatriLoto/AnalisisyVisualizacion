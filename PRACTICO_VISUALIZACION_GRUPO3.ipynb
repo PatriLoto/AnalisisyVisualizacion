{
  "nbformat": 4,
  "nbformat_minor": 0,
  "metadata": {
    "colab": {
      "name": "PRACTICO_GRUPO3.ipynb",
      "provenance": [],
      "collapsed_sections": []
    },
    "kernelspec": {
      "display_name": "Python [conda env:diplodatos-ayvd] *",
      "language": "python",
      "name": "conda-env-diplodatos-ayvd-py"
    },
    "language_info": {
      "codemirror_mode": {
        "name": "ipython",
        "version": 3
      },
      "file_extension": ".py",
      "mimetype": "text/x-python",
      "name": "python",
      "nbconvert_exporter": "python",
      "pygments_lexer": "ipython3",
      "version": "3.6.10"
    }
  },
  "cells": [
    {
      "cell_type": "markdown",
      "metadata": {
        "colab_type": "text",
        "id": "mKqgKTs3FZCI"
      },
      "source": [
        "<center>\n",
        "<h4>Universidad Nacional de Córdoba - Facultad de Matemática, Astronomía, Física y Computación</h4>\n",
        "<h3>Diplomatura en Ciencia de Datos, Aprendizaje Automático y sus Aplicaciones</h3>\n",
        "</center>"
      ]
    },
    {
      "cell_type": "markdown",
      "metadata": {
        "colab_type": "text",
        "id": "b956SHDlFZCJ"
      },
      "source": [
        "<h1> Práctico </h1>\n",
        "<h3> Análisis y Visualización de Datos - 2020 </h3>\n",
        "\n",
        "En este práctico vamos a trabajar con el dataset del [Indíce de Libertad Humana del 2018](https://www.cato.org/human-freedom-index-new) publicado por el Instituto Cato, el Instituto Fraser y el Instituto Liberales en la Fundación Friedrich Naumann para la libertad. Este índice mide en detalle lo que entendemos como libertad humana en el mundo, utilizando 76 indicadores de libertad personal y económica en distintos aspectos. Dicho índice puede tomar valores en una escala del 1 al 10, donde 10 representa mayor libertad y 1 menor libertad.  the average human freedom rating for 162 countries in 2016 was 6.89\n",
        "\n",
        "Las variables más importantes sobre las que se mide el índice son:\n",
        "\n",
        "* Estado de Derecho (Rule of Law)\n",
        "* Protección y seguridad (Security and Safety)\n",
        "* Movilidad Social (Movement)\n",
        "* Religión(Religion)\n",
        "* Asociación, Asamblea y Sociedad Civil (Association, Assembly, and Civil Society)\n",
        "* Expresión e información (Expression and Information)\n",
        "* Identidad y relaciones (Identity and Relationships)\n",
        "* Tamaño del gobierno (Size of Government)\n",
        "* Sistema legal y derechos de propiedad (Legal System and Property Rights)\n",
        "* Acceso a dinero sólido (Access to Sound Money)\n",
        "* Libertad para comerciar internacionalmente (Freedom to Trade Internationally)\n",
        "* Regulación de crédito, trabajo y negocios (Regulation of Credit, Labor, and Business)\n",
        "\n",
        "\n",
        "Nosotros centraremos nuestro análisis en variables relacionadas a *Identity and Relationships* en países de Latinoamérica, y los compararemos con las estadísticas globales. La pregunta a responder es simple: **¿Qué niveles de libertad se viven en Latinoamérica, especificamente en cuanto a libertades de identidad?**. Sin embargo, para responder este interrogante tenemos que plantear también estas subpreguntas:\n",
        "\n",
        "1. ¿Qué significa tener un puntaje de 4.5? Para esto, es necesario comparar los puntajes de la región con los datos del resto del mundo.\n",
        "2. ¿Cuál es la tendencia a lo largo de los años en Latinoamérica? ¿Hemos mejorado o empeorado respecto a la media mundial?\n",
        "3. En este estudio, la libertad se mide con un estimador principal: *hf_score* que hace referencia a la *Libertad Humana*, que a su vez está calculado en base a dos otros estimadores *ef_score* para *Libertad Económica* y *pf_score*, para *Libertad Personal*. Estos tres estimadores, ¿se relacionan de la misma manera con la libertad de identidad?\n"
      ]
    },
    {
      "cell_type": "code",
      "metadata": {
        "colab_type": "code",
        "id": "xZoxu5phFZCK",
        "colab": {}
      },
      "source": [
        " # Importamos las librerías necesarias\n",
        "import matplotlib.pyplot as plt\n",
        "import numpy\n",
        "import pandas \n",
        "import seaborn\n",
        "import scipy\n",
        "import pandas as pd"
      ],
      "execution_count": 22,
      "outputs": []
    },
    {
      "cell_type": "markdown",
      "metadata": {
        "colab_type": "text",
        "id": "Gg_MqLmTTi-h"
      },
      "source": [
        "Si un archivo está disponible en la web, podemos leerlo con pandas utilizando su URL sin necesidad de descargarlo."
      ]
    },
    {
      "cell_type": "code",
      "metadata": {
        "colab_type": "code",
        "id": "-QOtVVUOFZCU",
        "colab": {
          "base_uri": "https://localhost:8080/",
          "height": 34
        },
        "outputId": "0a317c95-76f3-4476-e72e-2d153a8735b6"
      },
      "source": [
        "dataset = pandas.read_csv(\n",
        "    'https://object.cato.org/sites/cato.org/files/human-freedom-index-files/human-freedom-index-2019.csv')\n",
        "dataset.shape"
      ],
      "execution_count": 23,
      "outputs": [
        {
          "output_type": "execute_result",
          "data": {
            "text/plain": [
              "(1620, 120)"
            ]
          },
          "metadata": {
            "tags": []
          },
          "execution_count": 23
        }
      ]
    },
    {
      "cell_type": "markdown",
      "metadata": {
        "id": "8oD8gRJB2WYT",
        "colab_type": "text"
      },
      "source": [
        "El dataset cuenta con 1620 filas y 120 columnas."
      ]
    },
    {
      "cell_type": "markdown",
      "metadata": {
        "id": "Zph6NypY9Kof",
        "colab_type": "text"
      },
      "source": [
        "Revisamos las columnas del dataset"
      ]
    },
    {
      "cell_type": "code",
      "metadata": {
        "colab_type": "code",
        "id": "S_n8Fh3EFZCY",
        "colab": {
          "base_uri": "https://localhost:8080/",
          "height": 155
        },
        "outputId": "58d9f5f3-b278-4fc2-b119-3ea092857ad5"
      },
      "source": [
        "dataset.columns "
      ],
      "execution_count": 24,
      "outputs": [
        {
          "output_type": "execute_result",
          "data": {
            "text/plain": [
              "Index(['year', 'ISO_code', 'countries', 'region', 'hf_score', 'hf_rank',\n",
              "       'hf_quartile', 'pf_rol_procedural', 'pf_rol_civil', 'pf_rol_criminal',\n",
              "       ...\n",
              "       'ef_regulation_business_adm', 'ef_regulation_business_bureaucracy',\n",
              "       'ef_regulation_business_start', 'ef_regulation_business_bribes',\n",
              "       'ef_regulation_business_licensing', 'ef_regulation_business_compliance',\n",
              "       'ef_regulation_business', 'ef_regulation', 'ef_score', 'ef_rank'],\n",
              "      dtype='object', length=120)"
            ]
          },
          "metadata": {
            "tags": []
          },
          "execution_count": 24
        }
      ]
    },
    {
      "cell_type": "markdown",
      "metadata": {
        "colab_type": "text",
        "id": "05keUcCbFZCc"
      },
      "source": [
        "Por suerte las columnas tienen un prefijo que nos ayuda a identificar a qué sección pertenecen. Nos quedamos sólo con las que comienzan con *pf_indentity*, junto con otras columnas más generales"
      ]
    },
    {
      "cell_type": "code",
      "metadata": {
        "colab_type": "code",
        "id": "EQCW-sJSFZCd",
        "colab": {}
      },
      "source": [
        "score_cols = [col for col in dataset.columns if 'pf_identity' in col] + [\n",
        "    'pf_score', # Personal Freedom (score)\n",
        "    'pf_rank', # Personal Freedom (rank)\n",
        "    'ef_score', # Economic Freedom (score)\n",
        "    'ef_rank', # Economic Freedom (rank)\n",
        "    'hf_score', # Human Freedom (score)\n",
        "    'hf_rank', # Human Freedom (rank)\n",
        "]\n",
        "\n",
        "important_cols = ['year', 'ISO_code', 'countries', 'region'] + score_cols"
      ],
      "execution_count": 25,
      "outputs": []
    },
    {
      "cell_type": "code",
      "metadata": {
        "colab_type": "code",
        "id": "ZXYn1yL5FZCh",
        "colab": {
          "base_uri": "https://localhost:8080/",
          "height": 669
        },
        "outputId": "91063753-0703-4a57-c490-a9362248f3a5"
      },
      "source": [
        "dataset[important_cols]"
      ],
      "execution_count": 26,
      "outputs": [
        {
          "output_type": "execute_result",
          "data": {
            "text/html": [
              "<div>\n",
              "<style scoped>\n",
              "    .dataframe tbody tr th:only-of-type {\n",
              "        vertical-align: middle;\n",
              "    }\n",
              "\n",
              "    .dataframe tbody tr th {\n",
              "        vertical-align: top;\n",
              "    }\n",
              "\n",
              "    .dataframe thead th {\n",
              "        text-align: right;\n",
              "    }\n",
              "</style>\n",
              "<table border=\"1\" class=\"dataframe\">\n",
              "  <thead>\n",
              "    <tr style=\"text-align: right;\">\n",
              "      <th></th>\n",
              "      <th>year</th>\n",
              "      <th>ISO_code</th>\n",
              "      <th>countries</th>\n",
              "      <th>region</th>\n",
              "      <th>pf_identity_legal</th>\n",
              "      <th>pf_identity_sex_male</th>\n",
              "      <th>pf_identity_sex_female</th>\n",
              "      <th>pf_identity_sex</th>\n",
              "      <th>pf_identity_divorce</th>\n",
              "      <th>pf_identity</th>\n",
              "      <th>pf_score</th>\n",
              "      <th>pf_rank</th>\n",
              "      <th>ef_score</th>\n",
              "      <th>ef_rank</th>\n",
              "      <th>hf_score</th>\n",
              "      <th>hf_rank</th>\n",
              "    </tr>\n",
              "  </thead>\n",
              "  <tbody>\n",
              "    <tr>\n",
              "      <th>0</th>\n",
              "      <td>2017</td>\n",
              "      <td>ALB</td>\n",
              "      <td>Albania</td>\n",
              "      <td>Eastern Europe</td>\n",
              "      <td>0</td>\n",
              "      <td>10</td>\n",
              "      <td>10</td>\n",
              "      <td>10</td>\n",
              "      <td>7.5</td>\n",
              "      <td>5.8</td>\n",
              "      <td>8.01</td>\n",
              "      <td>46</td>\n",
              "      <td>7.67</td>\n",
              "      <td>30</td>\n",
              "      <td>7.84</td>\n",
              "      <td>38</td>\n",
              "    </tr>\n",
              "    <tr>\n",
              "      <th>1</th>\n",
              "      <td>2017</td>\n",
              "      <td>DZA</td>\n",
              "      <td>Algeria</td>\n",
              "      <td>Middle East &amp; North Africa</td>\n",
              "      <td>-</td>\n",
              "      <td>0</td>\n",
              "      <td>0</td>\n",
              "      <td>0</td>\n",
              "      <td>0</td>\n",
              "      <td>0</td>\n",
              "      <td>5.2</td>\n",
              "      <td>146</td>\n",
              "      <td>4.77</td>\n",
              "      <td>159</td>\n",
              "      <td>4.99</td>\n",
              "      <td>155</td>\n",
              "    </tr>\n",
              "    <tr>\n",
              "      <th>2</th>\n",
              "      <td>2017</td>\n",
              "      <td>AGO</td>\n",
              "      <td>Angola</td>\n",
              "      <td>Sub-Saharan Africa</td>\n",
              "      <td>10</td>\n",
              "      <td>0</td>\n",
              "      <td>0</td>\n",
              "      <td>0</td>\n",
              "      <td>5</td>\n",
              "      <td>5</td>\n",
              "      <td>5.98</td>\n",
              "      <td>121</td>\n",
              "      <td>4.83</td>\n",
              "      <td>158</td>\n",
              "      <td>5.4</td>\n",
              "      <td>151</td>\n",
              "    </tr>\n",
              "    <tr>\n",
              "      <th>3</th>\n",
              "      <td>2017</td>\n",
              "      <td>ARG</td>\n",
              "      <td>Argentina</td>\n",
              "      <td>Latin America &amp; the Caribbean</td>\n",
              "      <td>10</td>\n",
              "      <td>10</td>\n",
              "      <td>10</td>\n",
              "      <td>10</td>\n",
              "      <td>10</td>\n",
              "      <td>10</td>\n",
              "      <td>8.04</td>\n",
              "      <td>41</td>\n",
              "      <td>5.67</td>\n",
              "      <td>147</td>\n",
              "      <td>6.86</td>\n",
              "      <td>77</td>\n",
              "    </tr>\n",
              "    <tr>\n",
              "      <th>4</th>\n",
              "      <td>2017</td>\n",
              "      <td>ARM</td>\n",
              "      <td>Armenia</td>\n",
              "      <td>Caucasus &amp; Central Asia</td>\n",
              "      <td>7</td>\n",
              "      <td>10</td>\n",
              "      <td>10</td>\n",
              "      <td>10</td>\n",
              "      <td>7.5</td>\n",
              "      <td>8.2</td>\n",
              "      <td>7.15</td>\n",
              "      <td>72</td>\n",
              "      <td>7.7</td>\n",
              "      <td>27</td>\n",
              "      <td>7.42</td>\n",
              "      <td>54</td>\n",
              "    </tr>\n",
              "    <tr>\n",
              "      <th>...</th>\n",
              "      <td>...</td>\n",
              "      <td>...</td>\n",
              "      <td>...</td>\n",
              "      <td>...</td>\n",
              "      <td>...</td>\n",
              "      <td>...</td>\n",
              "      <td>...</td>\n",
              "      <td>...</td>\n",
              "      <td>...</td>\n",
              "      <td>...</td>\n",
              "      <td>...</td>\n",
              "      <td>...</td>\n",
              "      <td>...</td>\n",
              "      <td>...</td>\n",
              "      <td>...</td>\n",
              "      <td>...</td>\n",
              "    </tr>\n",
              "    <tr>\n",
              "      <th>1615</th>\n",
              "      <td>2008</td>\n",
              "      <td>AUS</td>\n",
              "      <td>Australia</td>\n",
              "      <td>Oceania</td>\n",
              "      <td>-</td>\n",
              "      <td>10</td>\n",
              "      <td>10</td>\n",
              "      <td>10</td>\n",
              "      <td>10</td>\n",
              "      <td>10</td>\n",
              "      <td>9.29</td>\n",
              "      <td>7</td>\n",
              "      <td>8.18</td>\n",
              "      <td>6</td>\n",
              "      <td>8.73</td>\n",
              "      <td>4</td>\n",
              "    </tr>\n",
              "    <tr>\n",
              "      <th>1616</th>\n",
              "      <td>2008</td>\n",
              "      <td>DNK</td>\n",
              "      <td>Denmark</td>\n",
              "      <td>Western Europe</td>\n",
              "      <td>-</td>\n",
              "      <td>10</td>\n",
              "      <td>10</td>\n",
              "      <td>10</td>\n",
              "      <td>10</td>\n",
              "      <td>10</td>\n",
              "      <td>9.49</td>\n",
              "      <td>3</td>\n",
              "      <td>7.98</td>\n",
              "      <td>9</td>\n",
              "      <td>8.73</td>\n",
              "      <td>4</td>\n",
              "    </tr>\n",
              "    <tr>\n",
              "      <th>1617</th>\n",
              "      <td>2008</td>\n",
              "      <td>CHE</td>\n",
              "      <td>Switzerland</td>\n",
              "      <td>Western Europe</td>\n",
              "      <td>-</td>\n",
              "      <td>10</td>\n",
              "      <td>10</td>\n",
              "      <td>10</td>\n",
              "      <td>10</td>\n",
              "      <td>10</td>\n",
              "      <td>9.31</td>\n",
              "      <td>6</td>\n",
              "      <td>8.35</td>\n",
              "      <td>4</td>\n",
              "      <td>8.83</td>\n",
              "      <td>3</td>\n",
              "    </tr>\n",
              "    <tr>\n",
              "      <th>1618</th>\n",
              "      <td>2008</td>\n",
              "      <td>NZL</td>\n",
              "      <td>New Zealand</td>\n",
              "      <td>Oceania</td>\n",
              "      <td>-</td>\n",
              "      <td>10</td>\n",
              "      <td>10</td>\n",
              "      <td>10</td>\n",
              "      <td>10</td>\n",
              "      <td>10</td>\n",
              "      <td>9.42</td>\n",
              "      <td>4</td>\n",
              "      <td>8.46</td>\n",
              "      <td>3</td>\n",
              "      <td>8.94</td>\n",
              "      <td>2</td>\n",
              "    </tr>\n",
              "    <tr>\n",
              "      <th>1619</th>\n",
              "      <td>2008</td>\n",
              "      <td>HKG</td>\n",
              "      <td>Hong Kong</td>\n",
              "      <td>East Asia</td>\n",
              "      <td>-</td>\n",
              "      <td>10</td>\n",
              "      <td>10</td>\n",
              "      <td>10</td>\n",
              "      <td>10</td>\n",
              "      <td>10</td>\n",
              "      <td>9.13</td>\n",
              "      <td>12</td>\n",
              "      <td>9.11</td>\n",
              "      <td>1</td>\n",
              "      <td>9.12</td>\n",
              "      <td>1</td>\n",
              "    </tr>\n",
              "  </tbody>\n",
              "</table>\n",
              "<p>1620 rows × 16 columns</p>\n",
              "</div>"
            ],
            "text/plain": [
              "      year ISO_code    countries  ... ef_rank hf_score hf_rank\n",
              "0     2017      ALB      Albania  ...      30     7.84      38\n",
              "1     2017      DZA      Algeria  ...     159     4.99     155\n",
              "2     2017      AGO       Angola  ...     158      5.4     151\n",
              "3     2017      ARG    Argentina  ...     147     6.86      77\n",
              "4     2017      ARM      Armenia  ...      27     7.42      54\n",
              "...    ...      ...          ...  ...     ...      ...     ...\n",
              "1615  2008      AUS    Australia  ...       6     8.73       4\n",
              "1616  2008      DNK      Denmark  ...       9     8.73       4\n",
              "1617  2008      CHE  Switzerland  ...       4     8.83       3\n",
              "1618  2008      NZL  New Zealand  ...       3     8.94       2\n",
              "1619  2008      HKG    Hong Kong  ...       1     9.12       1\n",
              "\n",
              "[1620 rows x 16 columns]"
            ]
          },
          "metadata": {
            "tags": []
          },
          "execution_count": 26
        }
      ]
    },
    {
      "cell_type": "markdown",
      "metadata": {
        "colab_type": "text",
        "id": "HPC6X48OVqgN"
      },
      "source": [
        "Si analizamos los tipos, vemos que casi todas las columnas se leen como objetos debido a que los valores nulos están marcados con `-`. Los vamos a eliminar y volveremos a convertir las columnas con puntajes a tipo numérico."
      ]
    },
    {
      "cell_type": "code",
      "metadata": {
        "colab_type": "code",
        "id": "An0A40SKVjxW",
        "colab": {
          "base_uri": "https://localhost:8080/",
          "height": 224
        },
        "outputId": "9b6b62c2-dcb0-43f5-a782-45dbcb414323"
      },
      "source": [
        "dataset.dtypes"
      ],
      "execution_count": 27,
      "outputs": [
        {
          "output_type": "execute_result",
          "data": {
            "text/plain": [
              "year                                  int64\n",
              "ISO_code                             object\n",
              "countries                            object\n",
              "region                               object\n",
              "hf_score                             object\n",
              "                                      ...  \n",
              "ef_regulation_business_compliance    object\n",
              "ef_regulation_business               object\n",
              "ef_regulation                        object\n",
              "ef_score                             object\n",
              "ef_rank                              object\n",
              "Length: 120, dtype: object"
            ]
          },
          "metadata": {
            "tags": []
          },
          "execution_count": 27
        }
      ]
    },
    {
      "cell_type": "code",
      "metadata": {
        "colab_type": "code",
        "id": "cNSfBVH2WDVu",
        "colab": {
          "base_uri": "https://localhost:8080/",
          "height": 669
        },
        "outputId": "748b2a1d-dd9f-41ae-ad2a-e72fcd0d6b9e"
      },
      "source": [
        "dataset = dataset[important_cols].replace('-', numpy.nan)\n",
        "for score_col in score_cols:\n",
        "  dataset[score_col] = pandas.to_numeric(dataset[score_col])\n",
        "dataset"
      ],
      "execution_count": 28,
      "outputs": [
        {
          "output_type": "execute_result",
          "data": {
            "text/html": [
              "<div>\n",
              "<style scoped>\n",
              "    .dataframe tbody tr th:only-of-type {\n",
              "        vertical-align: middle;\n",
              "    }\n",
              "\n",
              "    .dataframe tbody tr th {\n",
              "        vertical-align: top;\n",
              "    }\n",
              "\n",
              "    .dataframe thead th {\n",
              "        text-align: right;\n",
              "    }\n",
              "</style>\n",
              "<table border=\"1\" class=\"dataframe\">\n",
              "  <thead>\n",
              "    <tr style=\"text-align: right;\">\n",
              "      <th></th>\n",
              "      <th>year</th>\n",
              "      <th>ISO_code</th>\n",
              "      <th>countries</th>\n",
              "      <th>region</th>\n",
              "      <th>pf_identity_legal</th>\n",
              "      <th>pf_identity_sex_male</th>\n",
              "      <th>pf_identity_sex_female</th>\n",
              "      <th>pf_identity_sex</th>\n",
              "      <th>pf_identity_divorce</th>\n",
              "      <th>pf_identity</th>\n",
              "      <th>pf_score</th>\n",
              "      <th>pf_rank</th>\n",
              "      <th>ef_score</th>\n",
              "      <th>ef_rank</th>\n",
              "      <th>hf_score</th>\n",
              "      <th>hf_rank</th>\n",
              "    </tr>\n",
              "  </thead>\n",
              "  <tbody>\n",
              "    <tr>\n",
              "      <th>0</th>\n",
              "      <td>2017</td>\n",
              "      <td>ALB</td>\n",
              "      <td>Albania</td>\n",
              "      <td>Eastern Europe</td>\n",
              "      <td>0.0</td>\n",
              "      <td>10.0</td>\n",
              "      <td>10.0</td>\n",
              "      <td>10.0</td>\n",
              "      <td>7.5</td>\n",
              "      <td>5.8</td>\n",
              "      <td>8.01</td>\n",
              "      <td>46.0</td>\n",
              "      <td>7.67</td>\n",
              "      <td>30.0</td>\n",
              "      <td>7.84</td>\n",
              "      <td>38.0</td>\n",
              "    </tr>\n",
              "    <tr>\n",
              "      <th>1</th>\n",
              "      <td>2017</td>\n",
              "      <td>DZA</td>\n",
              "      <td>Algeria</td>\n",
              "      <td>Middle East &amp; North Africa</td>\n",
              "      <td>NaN</td>\n",
              "      <td>0.0</td>\n",
              "      <td>0.0</td>\n",
              "      <td>0.0</td>\n",
              "      <td>0.0</td>\n",
              "      <td>0.0</td>\n",
              "      <td>5.20</td>\n",
              "      <td>146.0</td>\n",
              "      <td>4.77</td>\n",
              "      <td>159.0</td>\n",
              "      <td>4.99</td>\n",
              "      <td>155.0</td>\n",
              "    </tr>\n",
              "    <tr>\n",
              "      <th>2</th>\n",
              "      <td>2017</td>\n",
              "      <td>AGO</td>\n",
              "      <td>Angola</td>\n",
              "      <td>Sub-Saharan Africa</td>\n",
              "      <td>10.0</td>\n",
              "      <td>0.0</td>\n",
              "      <td>0.0</td>\n",
              "      <td>0.0</td>\n",
              "      <td>5.0</td>\n",
              "      <td>5.0</td>\n",
              "      <td>5.98</td>\n",
              "      <td>121.0</td>\n",
              "      <td>4.83</td>\n",
              "      <td>158.0</td>\n",
              "      <td>5.40</td>\n",
              "      <td>151.0</td>\n",
              "    </tr>\n",
              "    <tr>\n",
              "      <th>3</th>\n",
              "      <td>2017</td>\n",
              "      <td>ARG</td>\n",
              "      <td>Argentina</td>\n",
              "      <td>Latin America &amp; the Caribbean</td>\n",
              "      <td>10.0</td>\n",
              "      <td>10.0</td>\n",
              "      <td>10.0</td>\n",
              "      <td>10.0</td>\n",
              "      <td>10.0</td>\n",
              "      <td>10.0</td>\n",
              "      <td>8.04</td>\n",
              "      <td>41.0</td>\n",
              "      <td>5.67</td>\n",
              "      <td>147.0</td>\n",
              "      <td>6.86</td>\n",
              "      <td>77.0</td>\n",
              "    </tr>\n",
              "    <tr>\n",
              "      <th>4</th>\n",
              "      <td>2017</td>\n",
              "      <td>ARM</td>\n",
              "      <td>Armenia</td>\n",
              "      <td>Caucasus &amp; Central Asia</td>\n",
              "      <td>7.0</td>\n",
              "      <td>10.0</td>\n",
              "      <td>10.0</td>\n",
              "      <td>10.0</td>\n",
              "      <td>7.5</td>\n",
              "      <td>8.2</td>\n",
              "      <td>7.15</td>\n",
              "      <td>72.0</td>\n",
              "      <td>7.70</td>\n",
              "      <td>27.0</td>\n",
              "      <td>7.42</td>\n",
              "      <td>54.0</td>\n",
              "    </tr>\n",
              "    <tr>\n",
              "      <th>...</th>\n",
              "      <td>...</td>\n",
              "      <td>...</td>\n",
              "      <td>...</td>\n",
              "      <td>...</td>\n",
              "      <td>...</td>\n",
              "      <td>...</td>\n",
              "      <td>...</td>\n",
              "      <td>...</td>\n",
              "      <td>...</td>\n",
              "      <td>...</td>\n",
              "      <td>...</td>\n",
              "      <td>...</td>\n",
              "      <td>...</td>\n",
              "      <td>...</td>\n",
              "      <td>...</td>\n",
              "      <td>...</td>\n",
              "    </tr>\n",
              "    <tr>\n",
              "      <th>1615</th>\n",
              "      <td>2008</td>\n",
              "      <td>AUS</td>\n",
              "      <td>Australia</td>\n",
              "      <td>Oceania</td>\n",
              "      <td>NaN</td>\n",
              "      <td>10.0</td>\n",
              "      <td>10.0</td>\n",
              "      <td>10.0</td>\n",
              "      <td>10.0</td>\n",
              "      <td>10.0</td>\n",
              "      <td>9.29</td>\n",
              "      <td>7.0</td>\n",
              "      <td>8.18</td>\n",
              "      <td>6.0</td>\n",
              "      <td>8.73</td>\n",
              "      <td>4.0</td>\n",
              "    </tr>\n",
              "    <tr>\n",
              "      <th>1616</th>\n",
              "      <td>2008</td>\n",
              "      <td>DNK</td>\n",
              "      <td>Denmark</td>\n",
              "      <td>Western Europe</td>\n",
              "      <td>NaN</td>\n",
              "      <td>10.0</td>\n",
              "      <td>10.0</td>\n",
              "      <td>10.0</td>\n",
              "      <td>10.0</td>\n",
              "      <td>10.0</td>\n",
              "      <td>9.49</td>\n",
              "      <td>3.0</td>\n",
              "      <td>7.98</td>\n",
              "      <td>9.0</td>\n",
              "      <td>8.73</td>\n",
              "      <td>4.0</td>\n",
              "    </tr>\n",
              "    <tr>\n",
              "      <th>1617</th>\n",
              "      <td>2008</td>\n",
              "      <td>CHE</td>\n",
              "      <td>Switzerland</td>\n",
              "      <td>Western Europe</td>\n",
              "      <td>NaN</td>\n",
              "      <td>10.0</td>\n",
              "      <td>10.0</td>\n",
              "      <td>10.0</td>\n",
              "      <td>10.0</td>\n",
              "      <td>10.0</td>\n",
              "      <td>9.31</td>\n",
              "      <td>6.0</td>\n",
              "      <td>8.35</td>\n",
              "      <td>4.0</td>\n",
              "      <td>8.83</td>\n",
              "      <td>3.0</td>\n",
              "    </tr>\n",
              "    <tr>\n",
              "      <th>1618</th>\n",
              "      <td>2008</td>\n",
              "      <td>NZL</td>\n",
              "      <td>New Zealand</td>\n",
              "      <td>Oceania</td>\n",
              "      <td>NaN</td>\n",
              "      <td>10.0</td>\n",
              "      <td>10.0</td>\n",
              "      <td>10.0</td>\n",
              "      <td>10.0</td>\n",
              "      <td>10.0</td>\n",
              "      <td>9.42</td>\n",
              "      <td>4.0</td>\n",
              "      <td>8.46</td>\n",
              "      <td>3.0</td>\n",
              "      <td>8.94</td>\n",
              "      <td>2.0</td>\n",
              "    </tr>\n",
              "    <tr>\n",
              "      <th>1619</th>\n",
              "      <td>2008</td>\n",
              "      <td>HKG</td>\n",
              "      <td>Hong Kong</td>\n",
              "      <td>East Asia</td>\n",
              "      <td>NaN</td>\n",
              "      <td>10.0</td>\n",
              "      <td>10.0</td>\n",
              "      <td>10.0</td>\n",
              "      <td>10.0</td>\n",
              "      <td>10.0</td>\n",
              "      <td>9.13</td>\n",
              "      <td>12.0</td>\n",
              "      <td>9.11</td>\n",
              "      <td>1.0</td>\n",
              "      <td>9.12</td>\n",
              "      <td>1.0</td>\n",
              "    </tr>\n",
              "  </tbody>\n",
              "</table>\n",
              "<p>1620 rows × 16 columns</p>\n",
              "</div>"
            ],
            "text/plain": [
              "      year ISO_code    countries  ... ef_rank  hf_score  hf_rank\n",
              "0     2017      ALB      Albania  ...    30.0      7.84     38.0\n",
              "1     2017      DZA      Algeria  ...   159.0      4.99    155.0\n",
              "2     2017      AGO       Angola  ...   158.0      5.40    151.0\n",
              "3     2017      ARG    Argentina  ...   147.0      6.86     77.0\n",
              "4     2017      ARM      Armenia  ...    27.0      7.42     54.0\n",
              "...    ...      ...          ...  ...     ...       ...      ...\n",
              "1615  2008      AUS    Australia  ...     6.0      8.73      4.0\n",
              "1616  2008      DNK      Denmark  ...     9.0      8.73      4.0\n",
              "1617  2008      CHE  Switzerland  ...     4.0      8.83      3.0\n",
              "1618  2008      NZL  New Zealand  ...     3.0      8.94      2.0\n",
              "1619  2008      HKG    Hong Kong  ...     1.0      9.12      1.0\n",
              "\n",
              "[1620 rows x 16 columns]"
            ]
          },
          "metadata": {
            "tags": []
          },
          "execution_count": 28
        }
      ]
    },
    {
      "cell_type": "markdown",
      "metadata": {
        "colab_type": "text",
        "id": "jD3nFLfXSgp7"
      },
      "source": [
        "# Parte 1\n",
        "\n"
      ]
    },
    {
      "cell_type": "markdown",
      "metadata": {
        "colab_type": "text",
        "id": "DHwEp61uFZCl"
      },
      "source": [
        "## 1. Estadísticos descriptivos\n",
        "\n",
        "  1. Para comenzar con un pantallazo de los datos, calcular el rango de las variables.\n",
        "  3. Para cada país, tenemos varias realizaciones para cada variable *pf_identity* y *hf_score*. Si queremos comparar un país con otro, ¿cuál es la manera adecuada de hacerlo? Por ejemplo, ¿nos quedamos con un único valor? ¿o comparamos todos los valores? ¿usamos el promedio? ¿usamos la mediana? \n",
        "  2. Obtener media, mediana y desviación estándar de las variables *pf_identity* y *hf_score* en el mundo y compararla con la de Latinoamérica y el caribe. Usar la respuesta del punto anterior para justificar si la comparación es válida o no.\n",
        "  3. ¿Tiene sentido calcular la moda?\n",
        "  4. ¿Cómo pueden sanearse los valores faltantes?\n",
        "  5. ¿Encuentra outliers en estas dos variables? ¿Qué método utiliza para detectarlos? Los outliers, ¿son globales o por grupo? ¿Los eliminaría del conjunto de datos?\n",
        "  \n",
        "  "
      ]
    },
    {
      "cell_type": "markdown",
      "metadata": {
        "id": "XmvzXVW98Ndl",
        "colab_type": "text"
      },
      "source": [
        "## Descripción de las variables:\n",
        "El índice de libertad se compone de dos brazos principales: el índice de libertad económica y el índice de libertad personal.\n",
        "A su vez, el índice de libertad personal incluye Protección Legal y Seguridad y Libertades personales Específicas.\n",
        "\n",
        "Las libertades personales específicas incluyen libertad de movilidad (doméstica y entre fronteras), de religion, de asociación civil, de expresion e información, y por último libertad de identidad personal y relaciones. Esta última se compone de:\n",
        "    \n",
        "  * Libertad para escoger género legalmente: _pf_identity_legal_. En general asume los valores 0 o 10, dependiendo de si es o no es posible\n",
        "cambiarse legalmente el género, respectivamente.\n",
        "  * Libertad de tener pareja de mismo género (para ambos sexos): _pf_identity_sex_male_ y _pf_identity_sex_female_\n",
        "  * Libertad de divorciarse: _pf_identity_divorce_. \n",
        "\n",
        "-_pf_identity_ representa el promedio de la subcategoría anterior (libertad de identidad)\n",
        "\n",
        "-_pf_score_ representa el promedio todas las subcategorías de libertad personal\n",
        "     \n",
        "-_ef_score_ representa el promedio  todas las subcategorias de libertad económica\n",
        "\n",
        "-_pf_score_ y _ef_score_ son rankings que permiten la comparación entre países. \n",
        "\n",
        "-_hf_score_ es el promedio de _pf_score_ y _ef_score_\n",
        "\n",
        "\n",
        "     \n",
        "    "
      ]
    },
    {
      "cell_type": "code",
      "metadata": {
        "id": "g7u0Rux38Ndn",
        "colab_type": "code",
        "colab": {}
      },
      "source": [
        "BLUE = '#35A7FF'\n",
        "RED = '#FF5964'\n",
        "GREEN = '#6BF178'\n",
        "YELLOW = '#FFE74C'"
      ],
      "execution_count": 29,
      "outputs": []
    },
    {
      "cell_type": "markdown",
      "metadata": {
        "id": "XY0SY_Oa8Ndx",
        "colab_type": "text"
      },
      "source": [
        "## Resolución Ejercicio 1.1:\n",
        "    "
      ]
    },
    {
      "cell_type": "code",
      "metadata": {
        "id": "UjfXnyrz8Ndy",
        "colab_type": "code",
        "colab": {
          "base_uri": "https://localhost:8080/",
          "height": 319
        },
        "outputId": "1a52140f-c7a1-4c8f-82e5-15659fc61497"
      },
      "source": [
        "#Ejercício 1: List Comprehension\n",
        "\n",
        "df1 = dataset.iloc[:,[4, 5, 6, 7, 8, 9, 10, 12, 14]]\n",
        "df1gen= df1.items()\n",
        "\n",
        "def range(serie):\n",
        "    rango = serie.max() - serie.min()\n",
        "    return rango\n",
        "\n",
        "idx = [\"rango\"]\n",
        "\n",
        "rangos = [range(col) for label, col in df1gen]\n",
        "rangos = numpy.array(rangos).reshape(-1,len(rangos))\n",
        "rangos = pandas.DataFrame(rangos, index=idx, columns=df1.columns, dtype=None, copy=False)\n",
        "\n",
        "\n",
        "#rangos\n",
        "df_rangos= pandas.DataFrame(rangos).transpose()\n",
        "df_rangos\n",
        "\n"
      ],
      "execution_count": 30,
      "outputs": [
        {
          "output_type": "execute_result",
          "data": {
            "text/html": [
              "<div>\n",
              "<style scoped>\n",
              "    .dataframe tbody tr th:only-of-type {\n",
              "        vertical-align: middle;\n",
              "    }\n",
              "\n",
              "    .dataframe tbody tr th {\n",
              "        vertical-align: top;\n",
              "    }\n",
              "\n",
              "    .dataframe thead th {\n",
              "        text-align: right;\n",
              "    }\n",
              "</style>\n",
              "<table border=\"1\" class=\"dataframe\">\n",
              "  <thead>\n",
              "    <tr style=\"text-align: right;\">\n",
              "      <th></th>\n",
              "      <th>rango</th>\n",
              "    </tr>\n",
              "  </thead>\n",
              "  <tbody>\n",
              "    <tr>\n",
              "      <th>pf_identity_legal</th>\n",
              "      <td>10.00</td>\n",
              "    </tr>\n",
              "    <tr>\n",
              "      <th>pf_identity_sex_male</th>\n",
              "      <td>10.00</td>\n",
              "    </tr>\n",
              "    <tr>\n",
              "      <th>pf_identity_sex_female</th>\n",
              "      <td>10.00</td>\n",
              "    </tr>\n",
              "    <tr>\n",
              "      <th>pf_identity_sex</th>\n",
              "      <td>10.00</td>\n",
              "    </tr>\n",
              "    <tr>\n",
              "      <th>pf_identity_divorce</th>\n",
              "      <td>10.00</td>\n",
              "    </tr>\n",
              "    <tr>\n",
              "      <th>pf_identity</th>\n",
              "      <td>10.00</td>\n",
              "    </tr>\n",
              "    <tr>\n",
              "      <th>pf_score</th>\n",
              "      <td>7.34</td>\n",
              "    </tr>\n",
              "    <tr>\n",
              "      <th>ef_score</th>\n",
              "      <td>6.53</td>\n",
              "    </tr>\n",
              "    <tr>\n",
              "      <th>hf_score</th>\n",
              "      <td>5.43</td>\n",
              "    </tr>\n",
              "  </tbody>\n",
              "</table>\n",
              "</div>"
            ],
            "text/plain": [
              "                        rango\n",
              "pf_identity_legal       10.00\n",
              "pf_identity_sex_male    10.00\n",
              "pf_identity_sex_female  10.00\n",
              "pf_identity_sex         10.00\n",
              "pf_identity_divorce     10.00\n",
              "pf_identity             10.00\n",
              "pf_score                 7.34\n",
              "ef_score                 6.53\n",
              "hf_score                 5.43"
            ]
          },
          "metadata": {
            "tags": []
          },
          "execution_count": 30
        }
      ]
    },
    {
      "cell_type": "markdown",
      "metadata": {
        "id": "vA5nT0IK8-k8",
        "colab_type": "text"
      },
      "source": [
        "## Resolución Ejercicio 1.2\n",
        "\n",
        "Si se quisiera comparar la variable pf_identity y hf_score de cada país, lo más apropiado no sería hacerlo con un valor en particular sino observar la evolución de dichas variables a lo largo de los años para cada país. Es decir, siempre y cuando no estemos interesados en saber cuál era la situación en un año particular (en este caso si habría que quedarse con el valor correspondiente sólo a ese año), es conveniente a fines comparativos medir qué tanto mejoró o empeoró cada índice en cada país y sacar conclusiones en base a eso. "
      ]
    },
    {
      "cell_type": "markdown",
      "metadata": {
        "id": "PcwLAd0h8Nd9",
        "colab_type": "text"
      },
      "source": [
        "## Resolución Ejercicio 1.3"
      ]
    },
    {
      "cell_type": "code",
      "metadata": {
        "id": "YIDgMumJ8Nd_",
        "colab_type": "code",
        "colab": {
          "base_uri": "https://localhost:8080/",
          "height": 1000
        },
        "outputId": "21b19f12-5d12-4d18-93fa-04433553da72"
      },
      "source": [
        "# Ejercicio 3\n",
        "\n",
        "# Calculamos y mostramos la media mundial y de latinoamerica por año\n",
        "media_mundial_anio = dataset.groupby(['year'])[['pf_identity', 'hf_score']].mean()\n",
        "media_latino_anio = dataset[dataset.region == 'Latin America & the Caribbean'].groupby(['year'])[['pf_identity', 'hf_score']].mean()\n",
        "print(\"         \", \"Media Mundial\",\"            \", \"Media de Latinoamérica\")\n",
        "# concateno los resultados de la media\n",
        "dataframe_media = pd.concat([media_mundial_anio, media_latino_anio], axis=1)\n",
        "display(dataframe_media)\n",
        "\n",
        "# Calculamos y mostramos la mediana mundial y de latinoamerica por año\n",
        "mediana_mundial_anio = dataset.groupby(['year'])[['pf_identity', 'hf_score']].median()\n",
        "mediana_latino_anio = dataset[dataset.region == 'Latin America & the Caribbean'].groupby(['year'])[['pf_identity', 'hf_score']].median()\n",
        "print(\"\\n          \", \"Mediana Mundial\", \"      \", \"Mediana de Latinoamérica\")\n",
        "# concateno los resultados de la mediana\n",
        "dataframe_mediana = pd.concat([mediana_mundial_anio, mediana_latino_anio], axis=1)\n",
        "display(dataframe_mediana)\n",
        "\n",
        "\n",
        "# Calculamos y mostramos la desviación estándar\n",
        "sd_mundial_anio = dataset.groupby(['year'])[['pf_identity', 'hf_score']].std(ddof=0)\n",
        "sd_latino_anio = dataset[dataset.region == 'Latin America & the Caribbean'].groupby(['year'])[['pf_identity', 'hf_score']].std(ddof=0)\n",
        "print(\"\\n          \", \"SD Mundial\", \"      \", \"SD de Latinoamérica\")\n",
        "dataframe_sd = pd.concat([sd_mundial_anio, sd_latino_anio], axis=1)\n",
        "display(dataframe_sd)\n",
        "\n",
        "# conclusiones\n",
        "print(\"La media de la variable pf_identity para el año 2017 a nivel mundial es:\", round(dataframe_media.iloc[9,0], 3), \"la cual es menor que en Latinoamérica\" \n",
        "      \" donde la media es de:\",round(dataframe_media.iloc[9,2], 3),\"\\n Por otra parte la media de la variable hf_score a nivel mundial es de:\",\n",
        "      round(dataframe_media.iloc[9,1],3), \"y es menor que la media para Latinoamérica, que es:\",round(dataframe_media.iloc[9,3], 3))\n",
        "\n",
        "\n"
      ],
      "execution_count": 31,
      "outputs": [
        {
          "output_type": "stream",
          "text": [
            "          Media Mundial              Media de Latinoamérica\n"
          ],
          "name": "stdout"
        },
        {
          "output_type": "display_data",
          "data": {
            "text/html": [
              "<div>\n",
              "<style scoped>\n",
              "    .dataframe tbody tr th:only-of-type {\n",
              "        vertical-align: middle;\n",
              "    }\n",
              "\n",
              "    .dataframe tbody tr th {\n",
              "        vertical-align: top;\n",
              "    }\n",
              "\n",
              "    .dataframe thead th {\n",
              "        text-align: right;\n",
              "    }\n",
              "</style>\n",
              "<table border=\"1\" class=\"dataframe\">\n",
              "  <thead>\n",
              "    <tr style=\"text-align: right;\">\n",
              "      <th></th>\n",
              "      <th>pf_identity</th>\n",
              "      <th>hf_score</th>\n",
              "      <th>pf_identity</th>\n",
              "      <th>hf_score</th>\n",
              "    </tr>\n",
              "    <tr>\n",
              "      <th>year</th>\n",
              "      <th></th>\n",
              "      <th></th>\n",
              "      <th></th>\n",
              "      <th></th>\n",
              "    </tr>\n",
              "  </thead>\n",
              "  <tbody>\n",
              "    <tr>\n",
              "      <th>2008</th>\n",
              "      <td>7.721986</td>\n",
              "      <td>7.078014</td>\n",
              "      <td>8.904000</td>\n",
              "      <td>7.130000</td>\n",
              "    </tr>\n",
              "    <tr>\n",
              "      <th>2009</th>\n",
              "      <td>7.721986</td>\n",
              "      <td>7.083050</td>\n",
              "      <td>8.904000</td>\n",
              "      <td>7.112000</td>\n",
              "    </tr>\n",
              "    <tr>\n",
              "      <th>2010</th>\n",
              "      <td>7.485621</td>\n",
              "      <td>7.035294</td>\n",
              "      <td>8.946154</td>\n",
              "      <td>7.087692</td>\n",
              "    </tr>\n",
              "    <tr>\n",
              "      <th>2011</th>\n",
              "      <td>7.452941</td>\n",
              "      <td>7.014575</td>\n",
              "      <td>9.138462</td>\n",
              "      <td>7.090000</td>\n",
              "    </tr>\n",
              "    <tr>\n",
              "      <th>2012</th>\n",
              "      <td>7.452941</td>\n",
              "      <td>6.978039</td>\n",
              "      <td>9.138462</td>\n",
              "      <td>7.049615</td>\n",
              "    </tr>\n",
              "    <tr>\n",
              "      <th>2013</th>\n",
              "      <td>7.367516</td>\n",
              "      <td>6.970191</td>\n",
              "      <td>9.138462</td>\n",
              "      <td>7.027308</td>\n",
              "    </tr>\n",
              "    <tr>\n",
              "      <th>2014</th>\n",
              "      <td>7.416352</td>\n",
              "      <td>6.949937</td>\n",
              "      <td>9.042308</td>\n",
              "      <td>7.005769</td>\n",
              "    </tr>\n",
              "    <tr>\n",
              "      <th>2015</th>\n",
              "      <td>6.964151</td>\n",
              "      <td>6.922264</td>\n",
              "      <td>7.569231</td>\n",
              "      <td>6.960000</td>\n",
              "    </tr>\n",
              "    <tr>\n",
              "      <th>2016</th>\n",
              "      <td>6.870370</td>\n",
              "      <td>6.892716</td>\n",
              "      <td>7.665385</td>\n",
              "      <td>6.962308</td>\n",
              "    </tr>\n",
              "    <tr>\n",
              "      <th>2017</th>\n",
              "      <td>6.496914</td>\n",
              "      <td>6.887963</td>\n",
              "      <td>7.400000</td>\n",
              "      <td>6.951538</td>\n",
              "    </tr>\n",
              "  </tbody>\n",
              "</table>\n",
              "</div>"
            ],
            "text/plain": [
              "      pf_identity  hf_score  pf_identity  hf_score\n",
              "year                                              \n",
              "2008     7.721986  7.078014     8.904000  7.130000\n",
              "2009     7.721986  7.083050     8.904000  7.112000\n",
              "2010     7.485621  7.035294     8.946154  7.087692\n",
              "2011     7.452941  7.014575     9.138462  7.090000\n",
              "2012     7.452941  6.978039     9.138462  7.049615\n",
              "2013     7.367516  6.970191     9.138462  7.027308\n",
              "2014     7.416352  6.949937     9.042308  7.005769\n",
              "2015     6.964151  6.922264     7.569231  6.960000\n",
              "2016     6.870370  6.892716     7.665385  6.962308\n",
              "2017     6.496914  6.887963     7.400000  6.951538"
            ]
          },
          "metadata": {
            "tags": []
          }
        },
        {
          "output_type": "stream",
          "text": [
            "\n",
            "           Mediana Mundial        Mediana de Latinoamérica\n"
          ],
          "name": "stdout"
        },
        {
          "output_type": "display_data",
          "data": {
            "text/html": [
              "<div>\n",
              "<style scoped>\n",
              "    .dataframe tbody tr th:only-of-type {\n",
              "        vertical-align: middle;\n",
              "    }\n",
              "\n",
              "    .dataframe tbody tr th {\n",
              "        vertical-align: top;\n",
              "    }\n",
              "\n",
              "    .dataframe thead th {\n",
              "        text-align: right;\n",
              "    }\n",
              "</style>\n",
              "<table border=\"1\" class=\"dataframe\">\n",
              "  <thead>\n",
              "    <tr style=\"text-align: right;\">\n",
              "      <th></th>\n",
              "      <th>pf_identity</th>\n",
              "      <th>hf_score</th>\n",
              "      <th>pf_identity</th>\n",
              "      <th>hf_score</th>\n",
              "    </tr>\n",
              "    <tr>\n",
              "      <th>year</th>\n",
              "      <th></th>\n",
              "      <th></th>\n",
              "      <th></th>\n",
              "      <th></th>\n",
              "    </tr>\n",
              "  </thead>\n",
              "  <tbody>\n",
              "    <tr>\n",
              "      <th>2008</th>\n",
              "      <td>10.0</td>\n",
              "      <td>7.040</td>\n",
              "      <td>10.0</td>\n",
              "      <td>7.130</td>\n",
              "    </tr>\n",
              "    <tr>\n",
              "      <th>2009</th>\n",
              "      <td>10.0</td>\n",
              "      <td>7.020</td>\n",
              "      <td>10.0</td>\n",
              "      <td>7.060</td>\n",
              "    </tr>\n",
              "    <tr>\n",
              "      <th>2010</th>\n",
              "      <td>8.8</td>\n",
              "      <td>6.960</td>\n",
              "      <td>10.0</td>\n",
              "      <td>7.085</td>\n",
              "    </tr>\n",
              "    <tr>\n",
              "      <th>2011</th>\n",
              "      <td>8.8</td>\n",
              "      <td>6.960</td>\n",
              "      <td>10.0</td>\n",
              "      <td>7.030</td>\n",
              "    </tr>\n",
              "    <tr>\n",
              "      <th>2012</th>\n",
              "      <td>8.8</td>\n",
              "      <td>6.880</td>\n",
              "      <td>10.0</td>\n",
              "      <td>7.055</td>\n",
              "    </tr>\n",
              "    <tr>\n",
              "      <th>2013</th>\n",
              "      <td>8.8</td>\n",
              "      <td>6.870</td>\n",
              "      <td>10.0</td>\n",
              "      <td>7.045</td>\n",
              "    </tr>\n",
              "    <tr>\n",
              "      <th>2014</th>\n",
              "      <td>8.8</td>\n",
              "      <td>6.830</td>\n",
              "      <td>10.0</td>\n",
              "      <td>6.965</td>\n",
              "    </tr>\n",
              "    <tr>\n",
              "      <th>2015</th>\n",
              "      <td>8.2</td>\n",
              "      <td>6.780</td>\n",
              "      <td>6.7</td>\n",
              "      <td>6.925</td>\n",
              "    </tr>\n",
              "    <tr>\n",
              "      <th>2016</th>\n",
              "      <td>8.2</td>\n",
              "      <td>6.820</td>\n",
              "      <td>6.7</td>\n",
              "      <td>6.985</td>\n",
              "    </tr>\n",
              "    <tr>\n",
              "      <th>2017</th>\n",
              "      <td>7.5</td>\n",
              "      <td>6.825</td>\n",
              "      <td>6.7</td>\n",
              "      <td>6.915</td>\n",
              "    </tr>\n",
              "  </tbody>\n",
              "</table>\n",
              "</div>"
            ],
            "text/plain": [
              "      pf_identity  hf_score  pf_identity  hf_score\n",
              "year                                              \n",
              "2008         10.0     7.040         10.0     7.130\n",
              "2009         10.0     7.020         10.0     7.060\n",
              "2010          8.8     6.960         10.0     7.085\n",
              "2011          8.8     6.960         10.0     7.030\n",
              "2012          8.8     6.880         10.0     7.055\n",
              "2013          8.8     6.870         10.0     7.045\n",
              "2014          8.8     6.830         10.0     6.965\n",
              "2015          8.2     6.780          6.7     6.925\n",
              "2016          8.2     6.820          6.7     6.985\n",
              "2017          7.5     6.825          6.7     6.915"
            ]
          },
          "metadata": {
            "tags": []
          }
        },
        {
          "output_type": "stream",
          "text": [
            "\n",
            "           SD Mundial        SD de Latinoamérica\n"
          ],
          "name": "stdout"
        },
        {
          "output_type": "display_data",
          "data": {
            "text/html": [
              "<div>\n",
              "<style scoped>\n",
              "    .dataframe tbody tr th:only-of-type {\n",
              "        vertical-align: middle;\n",
              "    }\n",
              "\n",
              "    .dataframe tbody tr th {\n",
              "        vertical-align: top;\n",
              "    }\n",
              "\n",
              "    .dataframe thead th {\n",
              "        text-align: right;\n",
              "    }\n",
              "</style>\n",
              "<table border=\"1\" class=\"dataframe\">\n",
              "  <thead>\n",
              "    <tr style=\"text-align: right;\">\n",
              "      <th></th>\n",
              "      <th>pf_identity</th>\n",
              "      <th>hf_score</th>\n",
              "      <th>pf_identity</th>\n",
              "      <th>hf_score</th>\n",
              "    </tr>\n",
              "    <tr>\n",
              "      <th>year</th>\n",
              "      <th></th>\n",
              "      <th></th>\n",
              "      <th></th>\n",
              "      <th></th>\n",
              "    </tr>\n",
              "  </thead>\n",
              "  <tbody>\n",
              "    <tr>\n",
              "      <th>2008</th>\n",
              "      <td>3.072691</td>\n",
              "      <td>1.025467</td>\n",
              "      <td>1.775946</td>\n",
              "      <td>0.556791</td>\n",
              "    </tr>\n",
              "    <tr>\n",
              "      <th>2009</th>\n",
              "      <td>3.072691</td>\n",
              "      <td>0.987082</td>\n",
              "      <td>1.775946</td>\n",
              "      <td>0.549130</td>\n",
              "    </tr>\n",
              "    <tr>\n",
              "      <th>2010</th>\n",
              "      <td>3.247531</td>\n",
              "      <td>0.993985</td>\n",
              "      <td>1.754167</td>\n",
              "      <td>0.571343</td>\n",
              "    </tr>\n",
              "    <tr>\n",
              "      <th>2011</th>\n",
              "      <td>3.253255</td>\n",
              "      <td>1.027654</td>\n",
              "      <td>1.501045</td>\n",
              "      <td>0.551076</td>\n",
              "    </tr>\n",
              "    <tr>\n",
              "      <th>2012</th>\n",
              "      <td>3.253255</td>\n",
              "      <td>1.044145</td>\n",
              "      <td>1.501045</td>\n",
              "      <td>0.572783</td>\n",
              "    </tr>\n",
              "    <tr>\n",
              "      <th>2013</th>\n",
              "      <td>3.267973</td>\n",
              "      <td>1.038418</td>\n",
              "      <td>1.501045</td>\n",
              "      <td>0.595176</td>\n",
              "    </tr>\n",
              "    <tr>\n",
              "      <th>2014</th>\n",
              "      <td>3.243375</td>\n",
              "      <td>1.081756</td>\n",
              "      <td>1.673130</td>\n",
              "      <td>0.674196</td>\n",
              "    </tr>\n",
              "    <tr>\n",
              "      <th>2015</th>\n",
              "      <td>2.944994</td>\n",
              "      <td>1.106719</td>\n",
              "      <td>1.910652</td>\n",
              "      <td>0.728228</td>\n",
              "    </tr>\n",
              "    <tr>\n",
              "      <th>2016</th>\n",
              "      <td>3.059773</td>\n",
              "      <td>1.107213</td>\n",
              "      <td>1.966829</td>\n",
              "      <td>0.698109</td>\n",
              "    </tr>\n",
              "    <tr>\n",
              "      <th>2017</th>\n",
              "      <td>3.144158</td>\n",
              "      <td>1.100704</td>\n",
              "      <td>1.955859</td>\n",
              "      <td>0.756707</td>\n",
              "    </tr>\n",
              "  </tbody>\n",
              "</table>\n",
              "</div>"
            ],
            "text/plain": [
              "      pf_identity  hf_score  pf_identity  hf_score\n",
              "year                                              \n",
              "2008     3.072691  1.025467     1.775946  0.556791\n",
              "2009     3.072691  0.987082     1.775946  0.549130\n",
              "2010     3.247531  0.993985     1.754167  0.571343\n",
              "2011     3.253255  1.027654     1.501045  0.551076\n",
              "2012     3.253255  1.044145     1.501045  0.572783\n",
              "2013     3.267973  1.038418     1.501045  0.595176\n",
              "2014     3.243375  1.081756     1.673130  0.674196\n",
              "2015     2.944994  1.106719     1.910652  0.728228\n",
              "2016     3.059773  1.107213     1.966829  0.698109\n",
              "2017     3.144158  1.100704     1.955859  0.756707"
            ]
          },
          "metadata": {
            "tags": []
          }
        },
        {
          "output_type": "stream",
          "text": [
            "La media de la variable pf_identity para el año 2017 a nivel mundial es: 6.497 la cual es menor que en Latinoamérica donde la media es de: 7.4 \n",
            " Por otra parte la media de la variable hf_score a nivel mundial es de: 6.888 y es menor que la media para Latinoamérica, que es: 6.952\n"
          ],
          "name": "stdout"
        }
      ]
    },
    {
      "cell_type": "code",
      "metadata": {
        "id": "Elo07H6UYu3v",
        "colab_type": "code",
        "colab": {
          "base_uri": "https://localhost:8080/",
          "height": 158
        },
        "outputId": "97ce3225-591c-4616-d53c-0c9ac4fe02b1"
      },
      "source": [
        "# conclusiones\n",
        "print(\"La media de la variable pf_identity para el año 2017 a nivel mundial es:\", round(dataframe_media.iloc[9,0], 3), \"la cual es menor que en Latinoamérica\" \n",
        "      \" donde la media es de:\",round(dataframe_media.iloc[9,2], 3),\"\\n Por otra parte la media de la variable hf_score a nivel mundial es de:\",\n",
        "      round(dataframe_media.iloc[9,1],3), \"y es menor que la media para Latinoamérica, que es:\",round(dataframe_media.iloc[9,3], 3))\n",
        "#p= media_mundial_anio[-1:] #funciona muestra la última fila con -1\n",
        "\n",
        "print(\"La mediana de la variable pf_identity a nivel mundial es:\", round(dataframe_mediana.iloc[9,0], 3), \"la cual también es menor que en Latinoamérica \\n\" \n",
        "      \" donde la mediana es de:\",round(dataframe_mediana.iloc[9,2], 3),\" \\n Por otra parte, la mediana de la variable hf_score a nivel global es de:\",\n",
        "     round(dataframe_mediana.iloc[9,1], 3), \"y es menor que la media para Latinoamérica, que es:\",round(dataframe_mediana.iloc[9,3], 3))\n",
        "\n",
        "print(\"La desviación estándar de la variable pf_identity a nivel mundial es:\", round(dataframe_sd.iloc[9,0], 3), \"la cual es más del doble que en Latinoamérica,\" \n",
        "      \" donde la desviación estándar es de:\", round(dataframe_sd.iloc[9,2], 3),\" \\n Por otra parte la std(σ) de la variable hf_score a nivel mundial es de:\",\n",
        "      round(dataframe_sd.iloc[9,3], 3), \"y es mayor que la std(σ) para Latinoamérica, que es:\", round(dataframe_sd.iloc[9,1], 3), \"esto indica que hay mucha mayor dispersion de los datos en\"\n",
        "      \" en a nivel global en comparación a  Latinoamérica\")"
      ],
      "execution_count": 34,
      "outputs": [
        {
          "output_type": "stream",
          "text": [
            "La media de la variable pf_identity para el año 2017 a nivel mundial es: 6.497 la cual es menor que en Latinoamérica donde la media es de: 7.4 \n",
            " Por otra parte la media de la variable hf_score a nivel mundial es de: 6.888 y es menor que la media para Latinoamérica, que es: 6.952\n",
            "La mediana de la variable pf_identity a nivel mundial es: 7.5 la cual también es menor que en Latinoamérica \n",
            " donde la mediana es de: 6.7  \n",
            " Por otra parte, la mediana de la variable hf_score a nivel global es de: 6.825 y es menor que la media para Latinoamérica, que es: 6.915\n",
            "La desviación estándar de la variable pf_identity a nivel mundial es: 3.144 la cual es más del doble que en Latinoamérica, donde la desviación estándar es de: 1.956  \n",
            " Por otra parte la std(σ) de la variable hf_score a nivel mundial es de: 0.757 y es mayor que la std(σ) para Latinoamérica, que es: 1.101 esto indica que hay mucha mayor dispersion de los datos en en a nivel global en comparación a  Latinoamérica\n"
          ],
          "name": "stdout"
        }
      ]
    },
    {
      "cell_type": "markdown",
      "metadata": {
        "id": "idAUczLNCnPU",
        "colab_type": "text"
      },
      "source": [
        "## Resolución Ejercicio 1.4\n",
        "\n",
        "Dada la naturaleza de los datos, no tiene mucho sentido calcular la moda, ya que la misma estaría indicando el valor de la variable que más se repite, y sin contextualizar, ese es un dato que no aporta mucho conocimiento. Es decir, de nada sirve calcular la moda de una variable a nivel mundial, pero si sería útil calcularla por región para saber, por ejemplo, cual es la situacion de la mayoría de los países en cada región. Sin embargo, puede que tal vez los mismos datos atenten contra esta intención, ya que por ejemplo si tenemos un país en Europa con un pf_identity de 7.4 y otro en la misma región de 7.6, a fines teóricos y empíricos se podría decir que ambos países se encuentran en la misma situación, sin embargo, el calcular la moda directamente no nos \"agrupará\" estos dos países en la misma situación ya que el valor específico de cada uno distinto. Por eso sería más útil en vez de calcular la moda es aplicar otro enfoque, como por ejemplo dividir los valores en intervalos y contar, para cada región, cuántos países se encuentran dentro de cada intervalo."
      ]
    },
    {
      "cell_type": "markdown",
      "metadata": {
        "id": "2t20aJrm8NeI",
        "colab_type": "text"
      },
      "source": [
        "#  Resolución Ejercicio 1.5\n",
        "Se parte de observar gráficos de caja de las variables _pf_identity_ y _hf_score_-"
      ]
    },
    {
      "cell_type": "code",
      "metadata": {
        "id": "99dCEYog8NeJ",
        "colab_type": "code",
        "colab": {}
      },
      "source": [
        "\n",
        "#BoxPlot pf_identity\n",
        "plt.figure(figsize=(15,8))\n",
        "seaborn.boxplot(data= dataset, x=\"region\", y='pf_identity', color=BLUE, hue= \"region\")\n",
        "plt.ylabel('Libertad de Identidad')\n",
        "plt.xlabel('Regiones')\n",
        "plt.title('Libertad de Identidad Personal por Regiones')\n",
        "plt.xticks(rotation=45)\n",
        "plt.legend(ncol = 2, title= \"Región\", bbox_to_anchor=(1.05, 1))\n",
        "seaborn.despine()"
      ],
      "execution_count": null,
      "outputs": []
    },
    {
      "cell_type": "markdown",
      "metadata": {
        "id": "zzntZbMK8NeT",
        "colab_type": "text"
      },
      "source": [
        "Como puede observarse, a excepción de las regiones \"South Asia\" y \"Sub-Saharan Africa\", la mayoría de las observaciones estan concentradas en rangos cortos, es decir, estan moderadamente agrupadas. Esto último es particularmente notable para las regiones de \"East Asia\", \"Eastern Europe\", \"North America\" y \"Western Europe\".\n",
        "A continuación se puede ver el BoxPlot para la variable _hf_score_.\n",
        "Al igual que la variable _pf_identity_, los datos muestran estar concentrados en intervalos pequeños. En este caso, la mayor dispersión la exhiben las regiones \"Middle East & North Afica\" y \"Oceania\".\n",
        "\n",
        "Una alternativa es aproximar los valores faltantes (NaN's) por las medias o medianas regionales de cada variable.\n",
        "\n",
        "Otra alternativa es aplicar alguna metodología de interpolación como _scipy.interpolate.CubicSpline_\n",
        "\n"
      ]
    },
    {
      "cell_type": "code",
      "metadata": {
        "id": "NCBSC6_g8NeV",
        "colab_type": "code",
        "colab": {}
      },
      "source": [
        "#BoxPlot hf_score:\n",
        "plt.figure(figsize=(15,8))\n",
        "seaborn.boxplot(data= dataset, x=\"region\", y='hf_score', color=BLUE, hue= \"region\")\n",
        "plt.ylabel('Putuación de Libertad Humana por Regiones')\n",
        "plt.xlabel('Regiones')\n",
        "plt.title('Libertad Humana')\n",
        "plt.xticks(rotation=45)\n",
        "plt.legend(ncol = 2, title= \"Región\", bbox_to_anchor=(1.05, 1))\n",
        "seaborn.despine()\n"
      ],
      "execution_count": null,
      "outputs": []
    },
    {
      "cell_type": "markdown",
      "metadata": {
        "id": "SDUSg1xF8Nee",
        "colab_type": "text"
      },
      "source": [
        "# Ejercicio 1.6 Limpiar Outliers\n",
        "\n",
        "Observando los gráficos de caja del ejercicio anterior, para la variable _pf_identity_ puede verse que cada región muestra sus propios outliers. En términos globales de la variable, los outliers de una región son valores típicos de otras (e.g, los outliers de Eastern Europe nos son valores atípicos para LATAM). Por otro lado, los valores más alejados (o inusuales) los presenta la región \"Middle East & North Africa\" y algunos valores extremos de South Asia y SS-Africa. "
      ]
    },
    {
      "cell_type": "markdown",
      "metadata": {
        "id": "LmJZSCp_8Neg",
        "colab_type": "text"
      },
      "source": [
        "Se pueden limpiar los outliers a partir de la función __clean_outliers__"
      ]
    },
    {
      "cell_type": "code",
      "metadata": {
        "id": "yxMkNE4N8Nei",
        "colab_type": "code",
        "colab": {}
      },
      "source": [
        "#Primero estimo la media y desviación estándar_\n",
        "\n",
        "std_pf_id = dataset.pf_identity.std()\n",
        "mean_pf_id = dataset.pf_identity.mean()\n",
        "print(\"la desviación estandar de pf_identity es:\", round(std_pf_id, 2))\n",
        "print(\"la media de pf_identity es:\", round(mean_pf_id, 2))\n",
        "print(\"1,5 veces la desviacion estandar es:\", round(1.5*std_pf_id, 2))\n",
        "\n",
        "# clean outliers\n",
        "def clean_outliers(dataset, column_name, a):\n",
        "    \"\"\"Returns dataset removing the outlier rows from column @column_name.\"\"\"\n",
        "    interesting_col = dataset[column_name]\n",
        "    # Here we can remove the outliers from both ends, or even add more restrictions.\n",
        "    mask_outlier = (\n",
        "        numpy.abs(interesting_col - interesting_col.mean()) <= (a* interesting_col.std()))\n",
        "    #print(\"Se remueven\", a, \"veces la desviación estándar\")\n",
        "    return dataset[mask_outlier]\n",
        "\n",
        "#limpio de outliers a df_gb_CountryMean\n",
        "df_cleaned = clean_outliers(dataset, \"pf_identity\", a = 2)\n",
        "\n",
        "print(\"Fijando el parametro a en 1.5 se remuven\", len(dataset) - len(df_cleaned), \"filas\")\n",
        "print(\"El valor mínimo de pf_identiry considerado es:\", df_cleaned.pf_identity.min())\n"
      ],
      "execution_count": null,
      "outputs": []
    },
    {
      "cell_type": "markdown",
      "metadata": {
        "id": "iKuu-vPCYlUP",
        "colab_type": "text"
      },
      "source": [
        "Aplicando la función __clean_outliers__ se eliminan los valores alejados 1.5 desviaciones estándar de la media observada de la variable. Posteriormente podrán verse gráficos de distribución de pf_identity. Estos muestran que los valores que elimina la función (aquellos cercanos a cero) tienen baja densidad probabística. Sin embargo, puede argumentarse que son representativos de países que poseen bajas libertades personales y por lo tanto no distorsionan el análisis."
      ]
    },
    {
      "cell_type": "markdown",
      "metadata": {
        "colab_type": "text",
        "id": "kwzDqGtfFZCm"
      },
      "source": [
        "## 2. Agregación de datos\n",
        "\n",
        "1. Grafiquen la media de la variable *pf_identity* y *hf_score* a través de los años.\n",
        "2. Realicen los mismos gráficos, pero separando por regiones (Cada variable en un gráfico distinto, sino no se ve nada). ¿La tendencia observada, es la misma que si no dividimos por regiones?\n",
        "3. Si lo consideran necesario, grafiquen algunos países de Latinoamerica para tratar de explicar la tendencia de la variable *pf_identity* en la región. ¿Cómo seleccionarion los países relevantes a esa tendencia?\n",
        "\n",
        "Pista: hay gráficos de seaborn que permiten generar visualizaciones para cada valor de una variable categórica, en este caso, las distintas regiones.\n",
        "\n",
        "Sólo por curiosidad, graficar la tendencia de *hf_score* y *ef_score* a través de los años. ¿Tienen alguna hipótesis para este comportamiento?"
      ]
    },
    {
      "cell_type": "markdown",
      "metadata": {
        "id": "aCbc20YIOc8z",
        "colab_type": "text"
      },
      "source": [
        "## Resolución Ejercicio 2.1"
      ]
    },
    {
      "cell_type": "code",
      "metadata": {
        "id": "jF8RHa_N7j1S",
        "colab_type": "code",
        "colab": {}
      },
      "source": [
        "media_x_años = dataset.groupby(['year'])[['hf_score', 'pf_identity']].mean()\n",
        "media_x_años.reset_index(inplace=True)\n",
        "media_x_años"
      ],
      "execution_count": null,
      "outputs": []
    },
    {
      "cell_type": "code",
      "metadata": {
        "id": "44lCvQ8r8NfH",
        "colab_type": "code",
        "colab": {
          "base_uri": "https://localhost:8080/",
          "height": 421
        },
        "outputId": "d278ad51-c941-442f-ad18-1a2702416a6e"
      },
      "source": [
        "\n",
        "plt.figure(figsize=(15,6))\n",
        "seaborn.lineplot(data=dataset, x=dataset.year, y=dataset.pf_identity, label = \"Personal Freedom of Identity\")\n",
        "seaborn.lineplot(data=dataset, x=dataset.year, y=dataset.hf_score, label=\"Human Freedom Score\")\n",
        "plt.legend()\n",
        "plt.xlabel(\"Año\")\n",
        "plt.ylabel(\"Promedio\")\n",
        "plt.title(\"Media Anual de Personal Freedom of Identity & Huan Freedom Score a Nivel Mundial\")"
      ],
      "execution_count": 35,
      "outputs": [
        {
          "output_type": "execute_result",
          "data": {
            "text/plain": [
              "Text(0.5, 1.0, 'Media Anual de Personal Freedom of Identity & Huan Freedom Score a Nivel Mundial')"
            ]
          },
          "metadata": {
            "tags": []
          },
          "execution_count": 35
        },
        {
          "output_type": "display_data",
          "data": {
            "image/png": "[encoded data removed]",
            "text/plain": [
              "<Figure size 1080x432 with 1 Axes>"
            ]
          },
          "metadata": {
            "tags": [],
            "needs_background": "light"
          }
        }
      ]
    },
    {
      "cell_type": "markdown",
      "metadata": {
        "id": "ucQyMpXcOmu0",
        "colab_type": "text"
      },
      "source": [
        "## Resolución Ejercicio 2.2"
      ]
    },
    {
      "cell_type": "code",
      "metadata": {
        "id": "CjT7Lkdn8NfZ",
        "colab_type": "code",
        "colab": {}
      },
      "source": [
        "seaborn.set(font_scale = 1.5)\n",
        "# pf_identity\n",
        "g = seaborn.FacetGrid(data= dataset, col=\"region\", col_wrap=2,\n",
        "                  height=3, aspect=3.5, despine=True)\n",
        "g.map(seaborn.lineplot, \"year\", \"pf_identity\", label=\"Región\", color=\"red\")\n",
        "g.map(seaborn.lineplot, data=dataset, x=dataset.year, y=dataset.pf_identity, label=\"Mundial\")\n",
        "plt.legend()\n",
        "g.set_axis_labels(\"Año\", \"Identidad Personal\") \n",
        "g.fig.suptitle('Media Anual y Regional de Identidad Personal', fontsize=15)\n"
      ],
      "execution_count": null,
      "outputs": []
    },
    {
      "cell_type": "markdown",
      "metadata": {
        "id": "PdxUuYP9Ryob",
        "colab_type": "text"
      },
      "source": [
        "La principal ventaja que tiene el separar la variable pf_identity por región es que nos permite diferenciar aquellas regiones que se encuentran por encima del promedio mundial de aquellas que se encuentran por debajo. Las únicas regiones cuyo pf_identity promedio se encuentran por debajo del promedio mundial son África Subsahariana y la región Norte del mismo continente. Algo que llama la atención es que a lo largo de los años ningua región tuvo un cambio radical en su posicionamiento relativo, es decir, aquellas regiones que en 2008 se encontraban por encima del promedio mundial siguen estando por encima en el año 2016, y lo mismo sucede para las regiones que estaban por debajo del promedio mundial, aún no han podido avanzar. "
      ]
    },
    {
      "cell_type": "code",
      "metadata": {
        "id": "N33AuAZ7_qAS",
        "colab_type": "code",
        "colab": {}
      },
      "source": [
        "seaborn.set(font_scale = 1.3)\n",
        "# hf_score\n",
        "g = seaborn.FacetGrid(data= dataset, col=\"region\", col_wrap=2,\n",
        "                  height=3, aspect=4, despine=True)\n",
        "g.map(seaborn.lineplot, \"year\", \"hf_score\", label=\"Región\", color=\"red\")\n",
        "g.map(seaborn.lineplot, data=dataset, x=dataset.year, y=dataset.hf_score, label=\"Mundial\")\n",
        "plt.legend()\n",
        "g.set_axis_labels(\"Año\", \"Puntuación de Libertad Humana\") \n",
        "g.fig.suptitle('Media Anual y Regional de Puntuación de Libertad Humana', fontsize=15)"
      ],
      "execution_count": null,
      "outputs": []
    },
    {
      "cell_type": "markdown",
      "metadata": {
        "id": "oRM6pn84aEw8",
        "colab_type": "text"
      },
      "source": [
        "La tendencia observada para la variable hf_score es casi la misma cuando vemos al mundo en su totalidad que cuando la separamos por región, en ambos casos la misma se encuentra casi invariable a través del tiempo. Esto tiene total sentido, ya que en definitiva, es el hecho de que el hf_score por región permanece casi invariable lo que explica por qué el hf_score mundial tampoco cambió en el tiempo. "
      ]
    },
    {
      "cell_type": "markdown",
      "metadata": {
        "id": "qwdX_xKXa3GG",
        "colab_type": "text"
      },
      "source": [
        "## Resolución Ejercicio 2.3"
      ]
    },
    {
      "cell_type": "code",
      "metadata": {
        "id": "BEGtJZ7e_9-O",
        "colab_type": "code",
        "colab": {
          "base_uri": "https://localhost:8080/",
          "height": 421
        },
        "outputId": "52f8924e-67e8-45aa-86a6-6a7b133e93da"
      },
      "source": [
        "LATAM  = dataset[dataset.region == 'Latin America & the Caribbean']\n",
        "\n",
        "LATAM_countries = LATAM.groupby(\"countries\").pf_identity.mean().reset_index()\n",
        "LATAM_sorted = LATAM_countries.sort_values(\"pf_identity\")\n",
        "\n",
        "df1 = dataset[(dataset.countries == \"Trinidad and Tobago\")|(dataset.countries == \"Argentina\")| (dataset.countries == \"Jamaica\")| (dataset.countries == \"Panama\")|(dataset.countries == \"Ecuador\")|(dataset.countries == \"Guyana\")]\n",
        "\n",
        "# Gráfico\n",
        "plt.figure(figsize=(15,6))\n",
        "seaborn.lineplot(data=df1, x=df1.year, y=df1.pf_identity, hue=df1.countries, )\n",
        "plt.xlabel(\"Año\")\n",
        "plt.ylabel(\"Promedio\")\n",
        "plt.title(\"Representacion de libertad de identidad personal para los mejores y peores 3 países de Latinoamerica.\")\n",
        "plt.legend(bbox_to_anchor=(1.05, 1), loc=2, borderaxespad=0.)\n"
      ],
      "execution_count": 36,
      "outputs": [
        {
          "output_type": "execute_result",
          "data": {
            "text/plain": [
              "<matplotlib.legend.Legend at 0x7f7754ae9128>"
            ]
          },
          "metadata": {
            "tags": []
          },
          "execution_count": 36
        },
        {
          "output_type": "display_data",
          "data": {
            "image/png": "[encoded data removed]",
            "text/plain": [
              "<Figure size 1080x432 with 1 Axes>"
            ]
          },
          "metadata": {
            "tags": [],
            "needs_background": "light"
          }
        }
      ]
    },
    {
      "cell_type": "markdown",
      "metadata": {
        "id": "1M3q-MDaKiep",
        "colab_type": "text"
      },
      "source": [
        "En base a los promedios de la variable _pf_identity_ para cada país (entre 2008 y 2017), se seleccionan los 3 peores y 3 mejores países. Estos son:\n",
        "Mejores: Argentina (este comparte el puesto 1 con Bahamas, Suriname  Bolvia Colombia y Uruguay), Ecuador y Panamá.\n",
        "Peores:  Trinidad y Tobago (que comparte peor posicion con Barbados) Jamaica y Guyana.\n",
        "\n",
        "En el gráfico del punto 2.2 se observa que la variable pf_identity en la región latinomericana venía relativamente estable hasta que sufre una pequeña caída en el año 2014. Si bien no se puede asegurar que dicha caída se deba exclusivamente a lo que sucedió con Panamá y Jamaica, estos países tuvieron decaimientos muy pronunciados justo el mismo año, los cuales seguramente contribuyeron, al menos en parte, al deterioramento de la variable en la región."
      ]
    },
    {
      "cell_type": "markdown",
      "metadata": {
        "colab_type": "text",
        "id": "z7cBpSPrFZCn"
      },
      "source": [
        "## 3. Distribuciones\n",
        "  1. Graficar en un mismo histograma la distribución de la variable *pf_identity* en global, y en Latinoamérica y el caribe. Repetir para la variable *hf_score*. ¿Visualmente, a qué tipo de distribución corresponde cada variable? ¿Es correcto utilizar todos el conjunto de valores disponibles para esa region en estos gráficos?\n"
      ]
    },
    {
      "cell_type": "code",
      "metadata": {
        "id": "-W2fEyhz8Nfk",
        "colab_type": "code",
        "colab": {}
      },
      "source": [
        "LATAM  = dataset[dataset.region == 'Latin America & the Caribbean']\n",
        "\n",
        "plt.figure(figsize=(15,6))\n",
        "plt.title(\"Distribución Lbertad de Identidad Personal en LATAM y Mundo\")\n",
        "seaborn.distplot(LATAM.pf_identity.dropna(), label =\"Latino América y Caribe\")\n",
        "seaborn.distplot(dataset.pf_identity.dropna(), label ='Mundo')\n",
        "plt.xlabel(\"Libertad de Identidad Personal\")\n",
        "plt.legend()\n",
        "seaborn.despine()\n",
        "\n",
        "plt.figure(figsize=(15,6))\n",
        "plt.title(\"Distribución Puntuación de Libertad Humana en LATAM y Mundo\")\n",
        "seaborn.distplot(LATAM.hf_score.dropna(), label='Latino América y Caribe')\n",
        "seaborn.distplot(dataset.hf_score.dropna(), label='Mundo')\n",
        "plt.xlabel(\"Puntuación Libertad Humana\")\n",
        "plt.legend()\n",
        "seaborn.despine()\n"
      ],
      "execution_count": null,
      "outputs": []
    },
    {
      "cell_type": "markdown",
      "metadata": {
        "id": "V_ESBvDsKFDc",
        "colab_type": "text"
      },
      "source": [
        "En el primer gráfico, en primer lugar se puede afirmar que la distribución de **pf_identity** para América Latina y el Caribe es discreta. Además visualmente la distribución de dicha variable se asemeja a un ditribución asimétrica negativa, es decir, la cola de la distribución se alarga para valores inferiores a la media. Se puede visualizar que la mayoría de los  valores se aglomeran alrededor del valor de la varibla igual a 10."
      ]
    },
    {
      "cell_type": "markdown",
      "metadata": {
        "id": "-iVRT5Mm8Nft",
        "colab_type": "text"
      },
      "source": [
        "En el segundo gráfico se evidencia que la distribución de la variable  hf_score para América Latina y el Caribe se asemeja a una distribución Gaussiana aunque definitivamente no es una distribución normal.Y con respecto a la variable hf_score para el mundo, esta tiene mayor dispersión que la misma en América **Latina**. \n",
        "Posiblemente no corresponda usar todos los valores de hf_score para LATAM dado que el histograma muestra un outlier (perteneciente a Venezuela)"
      ]
    },
    {
      "cell_type": "code",
      "metadata": {
        "id": "1RjmK1XI8Nfx",
        "colab_type": "code",
        "colab": {}
      },
      "source": [
        "#Distribución hf_score removiendo outliers de LATAM\n",
        "LATAM_limpio = LATAM[LATAM.hf_score >5.5]\n",
        "#LATAM\n",
        "plt.figure(figsize=(15,6))\n",
        "plt.title('Distribución Puntuación de Libertad Humana en LATAM y Mundo (corregida por outliers)')\n",
        "seaborn.distplot(LATAM_limpio.hf_score, label= 'LATAM sin Venezuela')\n",
        "seaborn.distplot(dataset.hf_score.dropna(), label= 'Mundo')\n",
        "plt.xlabel(\"Puntuacion Libertad Humana\")\n",
        "plt.legend()"
      ],
      "execution_count": null,
      "outputs": []
    },
    {
      "cell_type": "markdown",
      "metadata": {
        "id": "h8MKETuuh9Cg",
        "colab_type": "text"
      },
      "source": [
        "Al remover al outlier Venezuela y quedarnos sólamente con los países latinoamericanos que tienen un hf_score más cercano al de la media de la región, se puede ver como se \"acortó\" la cola izquierda de la región y la distribución ahora se parece mucho más a una normal."
      ]
    },
    {
      "cell_type": "markdown",
      "metadata": {
        "colab_type": "text",
        "id": "lEwQJIulFZCo"
      },
      "source": [
        "## 4. Correlaciones y Relaciones\n",
        "\n",
        "En este ejercicio queremos responder a las preguntas\n",
        "\n",
        "* Las libertades personales y económicas, ¿van siempre de la mano?\n",
        "* ¿Cómo se relacionan ambas con las libertades respectivas a las relaciones personales?\n",
        "\n",
        "Para ello, analizaremos las correlaciones entre las variables pf_identity, pf_score y ef_score. \n",
        "\n",
        "Como pf_indentity contribuye al cálculo de pf_score esperamos hallar algún grado de correlación. Lo contrario podría ocurrir con ef_score. \n",
        "\n",
        "1. ¿Qué conclusiones puede sacar de un gráfico pairplot de estas tres variables? ¿Es adecuado para los valores de pf_identity? ¿Por qué?\n",
        "2. Graficar la correlación (visual) entre pf_identity y pf_score; y entre pf_identity y ef_score. Analizar el resultado, ¿se pueden sacar conclusiones? Tengan en cuenta que como pf_identity es el resultado de un promedio, sólo toma algunos valores. Es, en la práctica, discreta, y eso afecta al tipo de gráfico que podemos usar.\n",
        "3. Convertir estas variables en categóricas, es decir, a partir de pf_indentity generar otra variable pf_identity_segment que tome los valores `high`, `medium` y `low`. Pueden hacerlo con una función escrita por ustedes, o usando alguna función de pandas como `pandas.cut` o `pandas.dcut`. Repetir para ef_score y pf_score. El criterio para decidir qué intervalos de valores corresponden a cada categoría tienen que decidirlo ustedes, pueden usar los estadísticos mediana y los cuartiles.\n",
        "4. Graficar la correlación (visual) entre estas tres variables categoricas usando gráficos de calor (heatmaps). Note: van a necesitar 3 gráficos distintos, porque en cada uno podemos incluir sólo 2 variables.\n",
        "\n"
      ]
    },
    {
      "cell_type": "markdown",
      "metadata": {
        "id": "bYVc-7jUK-YN",
        "colab_type": "text"
      },
      "source": [
        "## Resolución Ejercicio 4.1: Pairplot"
      ]
    },
    {
      "cell_type": "code",
      "metadata": {
        "id": "5sOGvfNQ8NgI",
        "colab_type": "code",
        "colab": {}
      },
      "source": [
        "#filtro las columnas de interés:\n",
        "df_pairplot = dataset.loc[:, [\"year\",\"pf_identity\", \"pf_score\", \"ef_score\"]]\n",
        "seaborn.pairplot(data= df_pairplot, hue = \"year\")\n"
      ],
      "execution_count": null,
      "outputs": []
    },
    {
      "cell_type": "markdown",
      "metadata": {
        "id": "Yk0g5xbtNfe2",
        "colab_type": "text"
      },
      "source": [
        "Las únicas conclusiones relevantes que se pueden sacar están en la relación entre la variable pf_score y ef_score, es decir entre la libertad personal y la libertad económica. Esto es así porque las demás relaciones presentan un grado de correlación demasiado alto como para extraer conclusiones robustas. Es decir, al ser la variable pf_identity parte de la propia construcción de la variable pf_score, es esperable que aquellos países con un bajo pf_identity tengan también un bajo pf_score. Por eso, y para responder la pregunta, no es que sea inadecuado incorporar al gráfico los valores de pf_identity, sino que no tiene mucho sentido, ya que la relación entre esa variable y las demás es muy intuitiva y fácil de saber de antemano.\n",
        "\n",
        "Por otra parte, y volviendo a la relación entre la libertad personal y la económica, las conclusiones que se pueden sacar del gráfico es que exista una relación levemente positiva entre ellas, en el sentido de que los países con mayor ef_score tambien suelen ser los países con mayor pf_score. Adicionalmente, se puede apreciar por la concentración de puntos celestes que a medida que transcurrieron los años todos los países se fueron \"acercando\" entre ellos en lo que respecta a su ranking de libertad económica y personal. "
      ]
    },
    {
      "cell_type": "markdown",
      "metadata": {
        "id": "oyaCiE2dW6KQ",
        "colab_type": "text"
      },
      "source": [
        "## Resolución Ejercicio 4.2"
      ]
    },
    {
      "cell_type": "code",
      "metadata": {
        "id": "i7tB4gXt8NgV",
        "colab_type": "code",
        "colab": {}
      },
      "source": [
        "plt.figure(figsize=(10,6))\n",
        "plt.title('Correlación entre pf_identity y pf_score')\n",
        "\n",
        "seaborn.regplot(data= df_pairplot, x=\"pf_identity\", y=\"pf_score\")\n",
        "\n",
        "plt.figure(figsize=(10,6))\n",
        "plt.title('Correlación entre pf_identity y ef_score')\n",
        "\n",
        "seaborn.regplot(data= df_pairplot, x=\"pf_identity\", y=\"ef_score\")\n"
      ],
      "execution_count": null,
      "outputs": []
    },
    {
      "cell_type": "markdown",
      "metadata": {
        "id": "iemJm7MR8Ngd",
        "colab_type": "text"
      },
      "source": [
        "Parece haber una relación positiva entre _pf_identity_ y _pf_score_. Dado que la primera es un componente de la segunda esto tiene sentido. Sin embargo, dada la dispesión de la variable pf_identity sobre la recta de regresión, la bondad de ajuste del modelo debería ser baja.\n",
        "Esto último sucede también en la relación entre _pf_identity_ y _ef_score_. Es posible que puedan ajustarse mútiples rectas de regresión (incluso algunas con pendiente negativa) y que se obtengan para estas coeficientes de determinación similares.\n",
        "\n",
        "Por otro lado, debe considerarse que correlación no implica causalidad (especialmente en el segundo caso), y si existe causalidad esta puede ser biunívoca.\n"
      ]
    },
    {
      "cell_type": "markdown",
      "metadata": {
        "id": "3DJ2C0byYJAI",
        "colab_type": "text"
      },
      "source": [
        "## Resolución Ejercicio 4.3 y 4.4"
      ]
    },
    {
      "cell_type": "code",
      "metadata": {
        "id": "ykIg16s08Ngf",
        "colab_type": "code",
        "colab": {}
      },
      "source": [
        "# Ejercicio 3\n",
        "\n",
        "pf_id_segment = pandas.qcut(df_pairplot.pf_identity,  labels = [\"Low\", \"Medium\", \"High\"],q= 4, duplicates = \"drop\")\n",
        "ef_score_segment = pandas.qcut(df_pairplot.ef_score, labels = [\"Low\", \"Medium\", \"High\"] ,q= 3, duplicates = \"drop\")\n",
        "#ef_score_cuted\n",
        "pf_score_segment = pandas.qcut(df_pairplot.pf_score, labels = [\"Low\", \"Medium\", \"High\"], q= 3, duplicates = \"drop\")\n",
        "#pf_score_cuted\n",
        "\n",
        "# Ejercicio 4\n",
        "plt.figure(figsize=(10,6))\n",
        "\n",
        "exp1 = pandas.crosstab(pf_id_segment, ef_score_segment)\n",
        "seaborn.heatmap(exp1, annot=True)\n",
        "plt.title('Mapa de calor para la variable entre libertad económica y la libertad de identidad')"
      ],
      "execution_count": null,
      "outputs": []
    },
    {
      "cell_type": "code",
      "metadata": {
        "id": "idi0iwSVPDCR",
        "colab_type": "code",
        "colab": {}
      },
      "source": [
        "plt.figure(figsize=(10,6))\n",
        "exp2= pandas.crosstab(pf_id_segment, pf_score_segment)\n",
        "seaborn.heatmap(exp2, annot=True)\n",
        "plt.title('Mapa de calor entre libertad personal y la libertad de identidad')\n"
      ],
      "execution_count": null,
      "outputs": []
    },
    {
      "cell_type": "markdown",
      "metadata": {
        "id": "qYaajGPGRYEb",
        "colab_type": "text"
      },
      "source": [
        "Puede verse que en la variable _pf_identity_ quantil 75 es igual al quantil 100 (por es en _pf_id_segment_ q=4) \n"
      ]
    },
    {
      "cell_type": "code",
      "metadata": {
        "id": "v52Of4pH8Ngn",
        "colab_type": "code",
        "colab": {}
      },
      "source": [
        "plt.figure(figsize=(10,6))\n",
        "exp3= pandas.crosstab(ef_score_segment, pf_score_segment)\n",
        "seaborn.heatmap(exp3, annot=True) \n",
        "plt.title('Mapa de calor entre libertad personal y la libertad económica')"
      ],
      "execution_count": null,
      "outputs": []
    },
    {
      "cell_type": "markdown",
      "metadata": {
        "colab_type": "text",
        "id": "3uybvRrGSyA6"
      },
      "source": [
        "# Parte 2\n"
      ]
    },
    {
      "cell_type": "markdown",
      "metadata": {
        "colab_type": "text",
        "id": "OF4LTznCS6SD"
      },
      "source": [
        "## 3. Distribuciones\n",
        "\n",
        "2. Realizar una prueba de Kolmogorov-Smirnof para comprobar analíticamente si estas variables responden la distribución propuesta en el ejercicio anterior. Hint: podés usar https://docs.scipy.org/doc/scipy-0.14.0/reference/generated/scipy.stats.kstest.html, pero hay que tener en cuenta que si la distribución es \"norm\", entonces va a comparar los datos con una distribución normal con media 0 y desviación estándar 1. Se puede utilizar la distribución sobre todos los datos o sólo sobre Latinoamérica."
      ]
    },
    {
      "cell_type": "code",
      "metadata": {
        "id": "cq6VREnm8Ng4",
        "colab_type": "code",
        "colab": {}
      },
      "source": [
        "# Pruebas de Kolgomorov Smirnof para pf_identity y hf_score\n",
        "#Para contrastar si las variables tienen distribución normal hay que primero normalizar pf_score y hf_score.\n",
        "\n",
        "# prueba de Kolmogorov-Smirnov, Hipótesis Nula: dos distribuciones G(x) y F(x) son iguales.\n",
        "\n",
        "\n",
        "def normalize(series):\n",
        "    x=series\n",
        "    media= x.mean()\n",
        "    desv_estandar = x.std()\n",
        "    serie_norm = (x-media)/desv_estandar\n",
        "    return serie_norm\n",
        "\n",
        "pf_id_normalized = normalize(dataset.pf_identity.dropna())\n",
        "hf_score_normalized = normalize(dataset.hf_score.dropna())\n",
        "LATAM_pf_id_normalized = normalize(LATAM.pf_identity.dropna())\n",
        "LATAM_hf_score_normalized = normalize(LATAM.hf_score.dropna())\n",
        "\n",
        "\n",
        "\n",
        "pf_id_kgs = scipy.stats.kstest(pf_id_normalized, \"norm\")\n",
        "hf_score_kgs = scipy.stats.kstest(hf_score_normalized, \"norm\")\n",
        "LATAM_pfid_kgs =scipy.stats.kstest(LATAM_pf_id_normalized, \"norm\")\n",
        "LATAM_hfscore_kgs = scipy.stats.kstest(LATAM_hf_score_normalized, \"norm\")\n",
        "\n",
        "print(\"El p-valor de la prueba de Komogorov Smirnoff (donde H0: la variable se distribuye normal) sobre la variable Libertad de Identidad Personal es:\", pf_id_kgs[1])\n",
        "print(\"El p-valor de la prueba de Komogorov Smirnoff (donde H0: la variable se distribuye normal) sobre la variable Libertad de Identidad Personal en LATAM es:\", LATAM_pfid_kgs[1])\n",
        "print(\"El p-valor de la prueba de Komogorov Smirnoff (donde H0: la variable se distribuye normal) sobre la variable Libertad Humana es:\", hf_score_kgs[1])\n",
        "print(\"El p-valor de la prueba de Komogorov Smirnoff (donde H0: la variable se distribuye normal) sobre la variable Libertad Humana en LATAM es:\", LATAM_hfscore_kgs[1])\n",
        "\n"
      ],
      "execution_count": null,
      "outputs": []
    },
    {
      "cell_type": "markdown",
      "metadata": {
        "id": "_v5XrJxq8Ng_",
        "colab_type": "text"
      },
      "source": [
        "__Se rechaza la hipótesis nula de que la distribución de pf_identity es normal.__\n",
        "\n",
        "__Se rechaza la hipótesis nula de que la distribución de hf_score es normal.__\n",
        "\n",
        "__Se rechaza la hipótesis nula de que la distribución de pf_identity en latinoamerica es normal.__\n",
        "\n",
        "__Se rechaza la hipótesis nula de que la distribución de hf_score en lationamerica es normal.__\n"
      ]
    },
    {
      "cell_type": "markdown",
      "metadata": {
        "colab_type": "text",
        "id": "WWmCi_wRTYAB"
      },
      "source": [
        "## 4. Correlaciones\n",
        "\n",
        "3. Calcular algún coeficiente de correlación adecuado entre los dos pares de variables, dependiendo de la cantidad de datos, el tipo de datos y la distribución de los mismo. Algunas opciones son: coeficiente de pearson, coeficiente de spearman, coeficientes de tau y de kendall. Interpretar los resultados y justificar si las variables están correlacionadas o no. \n",
        "4. [Opcional] Analizar la correlación entre la region y el pf_score (y/o el ef_score); y entre la region y el pf_identity. Considerar que como la variable *region* es ordinal, debe utilizarse algún tipo de test. Explicar cuáles son los requisitos necesarios para la aplicación de ese test. (Si no se cumplieran, se pueden agregar algunos datos para generar más registros). Genere nuevas variables categóricas ordinales para calcular la correlación Tau de Kendal y genere una tabla de contingencia con esas nuevas variables."
      ]
    },
    {
      "cell_type": "code",
      "metadata": {
        "id": "nXQV2dzR8NhC",
        "colab_type": "code",
        "colab": {}
      },
      "source": [
        "# El coeficiente de Pearson es una medida de asociación entre variables que no se comportan normalmente.\n",
        "\n",
        "pearson_pfid_pfscore = scipy.stats.spearmanr(dataset.pf_identity.dropna(), dataset.pf_score.dropna())\n",
        "pearson_efscore_pfscore = scipy.stats.spearmanr(dataset.ef_score.dropna(), dataset.pf_score.dropna())\n",
        "pearson_pfid_efscore = scipy.stats.spearmanr(dataset.pf_identity.dropna(), dataset.ef_score.dropna())\n",
        "\n",
        "print(\"El coeficiente de correlación de Pearson entre Libertad de Identidad Personal y Libertad Personal es:\", round(pearson_pfid_pfscore[0], 2))\n",
        "print(\"El coeficiente de correlación de Pearson entre Libertad Económica y Libertad Personal es:\", round(pearson_efscore_pfscore[0], 2))\n",
        "print(\"El coeficiente de correlación de Pearson entre Libertad de Identidad Personal y Libertad Económica es:\", round(pearson_pfid_efscore[0], 2))\n"
      ],
      "execution_count": null,
      "outputs": []
    },
    {
      "cell_type": "markdown",
      "metadata": {
        "id": "a81gCl3J8NhN",
        "colab_type": "text"
      },
      "source": [
        "De este conjunto de datos, quizás la relación más interesante de observar es la de las variables libertad económica y libertada humana. En el siguiente gráfico puede observarse que a mayor libertad económica, mayor libertad humana se obtiene."
      ]
    },
    {
      "cell_type": "code",
      "metadata": {
        "id": "XBD_VKdr8NhO",
        "colab_type": "code",
        "colab": {}
      },
      "source": [
        "pearson_hf_ef = scipy.stats.spearmanr(dataset.ef_score.dropna(), dataset.hf_score.dropna())\n",
        "print(\"El coeficiente de correlación de Pearson entre Libertad Económica y Libertad Humana es:\", round(pearson_hf_ef[0], 2))"
      ],
      "execution_count": null,
      "outputs": []
    },
    {
      "cell_type": "code",
      "metadata": {
        "id": "q881NMZH8NhV",
        "colab_type": "code",
        "colab": {}
      },
      "source": [
        "plt.figure(figsize=(10,6))\n",
        "seaborn.regplot(data= dataset, x=\"ef_score\", y=\"hf_score\")\n",
        "plt.title('Relación entre Libertad Humana y  Libertad Económica en el Mundo')\n",
        "plt.ylabel(\"Libertad Humana\")\n",
        "plt.xlabel(\"Libertad Económica\")"
      ],
      "execution_count": null,
      "outputs": []
    },
    {
      "cell_type": "markdown",
      "metadata": {
        "id": "yOghFkriZvNR",
        "colab_type": "text"
      },
      "source": [
        "En el anterior gráfico se observa la alta correlación que existe entre la libertad económica y la libertad humana,es decir que cuando aumenta una, también lo hace la otra."
      ]
    }
  ]
}